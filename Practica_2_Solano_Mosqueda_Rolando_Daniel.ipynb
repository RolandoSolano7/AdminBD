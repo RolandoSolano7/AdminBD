{
  "nbformat": 4,
  "nbformat_minor": 0,
  "metadata": {
    "colab": {
      "name": "Practica 2 Solano Mosqueda Rolando Daniel.ipynb",
      "provenance": [],
      "include_colab_link": true
    },
    "kernelspec": {
      "name": "python3",
      "display_name": "Python 3"
    }
  },
  "cells": [
    {
      "cell_type": "markdown",
      "metadata": {
        "id": "view-in-github",
        "colab_type": "text"
      },
      "source": [
        "<a href=\"https://colab.research.google.com/github/RolandoSolano7/AdminBD/blob/master/Practica_2_Solano_Mosqueda_Rolando_Daniel.ipynb\" target=\"_parent\"><img src=\"https://colab.research.google.com/assets/colab-badge.svg\" alt=\"Open In Colab\"/></a>"
      ]
    },
    {
      "cell_type": "markdown",
      "metadata": {
        "id": "yzyC-n1MpHBg",
        "colab_type": "text"
      },
      "source": [
        "##**Practica 2 - Función para estimar el tamaño de un Base de Datos**"
      ]
    },
    {
      "cell_type": "markdown",
      "metadata": {
        "id": "9VaNUjNXpkul",
        "colab_type": "text"
      },
      "source": [
        "Acontinuación se mostrará el codigo en C++ utilizado para crear esa funcioón\n"
      ]
    },
    {
      "cell_type": "code",
      "metadata": {
        "id": "Ip-p2rNaqFk1",
        "colab_type": "code",
        "colab": {}
      },
      "source": [
        "#include <stdio.h>\n",
        "#include <iostream>\n",
        "#include <clocale>\n",
        "\n",
        "using namespace std;\n",
        "\n",
        "float filas = 35;\n",
        "\n",
        "//Función para el Tamaño de la fila\n",
        "float tamaFila(float id, float numTrabajadores, float horario, float ePacientes, float ramas, float salas, float elevadores, float edificios, float ext, float ranking ,float nomHospital,float direccion , float servicio ,float especialidad,float telefono ,float correo ,float paginaWeb, float nomDirector,float fechaAper){\n",
        "\tfloat total;\n",
        "\ttotal= id+numTrabajadores+horario+ePacientes+ramas+salas+elevadores+edificios+ext+ranking+nomHospital+direccion+ servicio+ especialidad+telefono+correo+paginaWeb+nomDirector+fechaAper; \n",
        "    return total;\n",
        "}\n",
        "\n",
        "\n",
        "int main(){\n",
        "\tsetlocale(LC_CTYPE,\"Spanish\");\n",
        "\tcout<<\"Practica 2 - Solano Mosqueda Rolando Daniel. \\n\"<<endl;\n",
        "\tcout<< \"\\n\\t\\tPrograma para calcular el tamaño de una Base de Datos\"<<endl;\n",
        "\t\n",
        "\t//Las variables numericas tienen un valos de 4 bytes\n",
        "\tfloat id = 4; \n",
        "\tfloat numTrabajadores = 4; \n",
        "\tfloat horario = 4; \n",
        "\tfloat ePacientes = 4; \n",
        "\tfloat ramas = 4; \t\t\t\t\t\t\n",
        "\tfloat salas = 4; \n",
        "\tfloat elevadores = 4; \n",
        "\tfloat edificios = 4; \n",
        "\tfloat ext = 4; \n",
        "\tfloat ranking = 4;\n",
        "\t\n",
        "\t//Las variables de texto tienen un valos de 8 bytes\n",
        "\tfloat nomHospital = 8; \n",
        "\tfloat direccion = 8; \n",
        "\tfloat servicio = 8; \n",
        "\tfloat especialidad = 8;\n",
        "\tfloat telefono = 8; \n",
        "\tfloat correo = 8; \n",
        "\tfloat paginaWeb = 8;  \n",
        "\tfloat nomDirector = 8; \n",
        "\tfloat fechaAper = 8;\n",
        "\t\n",
        "\t//Se mostrará el tamño de la Fila\n",
        "\tfloat tamadeFila;\n",
        "\ttamadeFila = tamaFila(id,numTrabajadores,horario,ePacientes,ramas,salas,elevadores,edificios,ext,ranking,nomHospital,direccion,servicio,especialidad,telefono,correo,paginaWeb,nomDirector,fechaAper);\n",
        "\t\n",
        "\tcout<<\"\\n\\nEl tamaño en bytes de una fila es: \"<<tamaFila<<endl;\n",
        "\t\n",
        "\t//Se mostrará el tamño de la Pagina\n",
        "\tfloat tamPagina;\n",
        "\ttamPagina = tamadeFila * filas;\n",
        "\tcout<< \"\\nEl tamaño en bytes de la pagina es: \"<<tamPagina<<endl;\n",
        "\t\n",
        "\t//Se mostrará el tamño de la Base de Datos\n",
        "\tfloat tamBD;\n",
        "\ttamBD = tamPagina*55627392;\n",
        "\t cout<< \"\\nEl tamaño en bytes de la Base de Datos es: \"<<tamBD<<endl;\n",
        " \n",
        "}\n",
        "\n",
        "\n"
      ],
      "execution_count": 0,
      "outputs": []
    },
    {
      "cell_type": "markdown",
      "metadata": {
        "id": "ZVyP2Y5dqHl9",
        "colab_type": "text"
      },
      "source": [
        "Nota: Es recomendable no correrlo en el Colab"
      ]
    },
    {
      "cell_type": "markdown",
      "metadata": {
        "id": "xLX-3EviqQm9",
        "colab_type": "text"
      },
      "source": [
        "Añado el link donde se podrá ver la captura del programa\n",
        "\n",
        "https://photos.app.goo.gl/tv5mxK8JMwK6zZFt8"
      ]
    }
  ]
}