{
  "nbformat": 4,
  "nbformat_minor": 0,
  "metadata": {
    "colab": {
      "name": "Practica 1 - Solano Mosqueda Rolando Daniel",
      "provenance": [],
      "include_colab_link": true
    },
    "kernelspec": {
      "name": "python3",
      "display_name": "Python 3"
    }
  },
  "cells": [
    {
      "cell_type": "markdown",
      "metadata": {
        "id": "view-in-github",
        "colab_type": "text"
      },
      "source": [
        "<a href=\"https://colab.research.google.com/github/RolandoSolano7/AdminBD/blob/master/Practica_1_Solano_Mosqueda_Rolando_Daniel.ipynb\" target=\"_parent\"><img src=\"https://colab.research.google.com/assets/colab-badge.svg\" alt=\"Open In Colab\"/></a>"
      ]
    },
    {
      "cell_type": "markdown",
      "metadata": {
        "id": "d3cW1LiWQ5Ug",
        "colab_type": "text"
      },
      "source": [
        "### **Creación de una API **\n"
      ]
    },
    {
      "cell_type": "markdown",
      "metadata": {
        "id": "46E5uiIUTFqc",
        "colab_type": "text"
      },
      "source": [
        "Para esta BD yo utilicé el método GET SINGLE"
      ]
    },
    {
      "cell_type": "markdown",
      "metadata": {
        "id": "LbHaglMETd2X",
        "colab_type": "text"
      },
      "source": [
        "**Aqui muestro el link**"
      ]
    },
    {
      "cell_type": "markdown",
      "metadata": {
        "id": "AT56I5FFTO5M",
        "colab_type": "text"
      },
      "source": [
        "http://13.90.197.22:3000/api/puppies/1"
      ]
    },
    {
      "cell_type": "markdown",
      "metadata": {
        "id": "UnrEAIHrTo9K",
        "colab_type": "text"
      },
      "source": [
        "Y a continuación adjunto la captura de Pantalla del resultado"
      ]
    },
    {
      "cell_type": "markdown",
      "metadata": {
        "id": "OuOx3tKvTvLa",
        "colab_type": "text"
      },
      "source": [
        "![Resultado](https://photos.google.com/search/_tra_/photo/AF1QipNBXR2qrryJu7Qhc095AMQMZYT8cwNTFxljjfe0)"
      ]
    },
    {
      "cell_type": "markdown",
      "metadata": {
        "id": "vhAVFMxgdflN",
        "colab_type": "text"
      },
      "source": [
        "\n",
        "Link donde también se puede ver la captura del resultado\n",
        "\n",
        "https://photos.app.goo.gl/CAGFpH93wCTV5BLL8"
      ]
    }
  ]
}