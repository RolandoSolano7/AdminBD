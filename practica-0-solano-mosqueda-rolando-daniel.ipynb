{
  "nbformat": 4,
  "nbformat_minor": 0,
  "metadata": {
    "colab": {
      "name": "Practica 0 - Solano Mosqueda Rolando Daniel.ipynb",
      "version": "0.3.2",
      "provenance": []
    },
    "kernelspec": {
      "name": "python3",
      "display_name": "Python 3"
    }
  },
  "cells": [
    {
      "cell_type": "markdown",
      "metadata": {
        "id": "lg_915-PRU6v",
        "colab_type": "text"
      },
      "source": [
        "*Practica 0 - Administración de Base de Datos*"
      ]
    },
    {
      "cell_type": "code",
      "metadata": {
        "id": "r1-1fQj8RGCS",
        "colab_type": "code",
        "outputId": "e58d75cb-42c6-4174-d407-f52649c4de45",
        "colab": {
          "base_uri": "https://localhost:8080/",
          "height": 35
        }
      },
      "source": [
        "print(\"Solano Mosqueda Rolando Daniel\")"
      ],
      "execution_count": 0,
      "outputs": [
        {
          "output_type": "stream",
          "text": [
            "Solano Mosqueda Rolando Daniel\n"
          ],
          "name": "stdout"
        }
      ]
    }
  ]
}